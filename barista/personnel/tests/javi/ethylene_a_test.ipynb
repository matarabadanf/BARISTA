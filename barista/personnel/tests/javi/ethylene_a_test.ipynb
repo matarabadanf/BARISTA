{
 "cells": [
  {
   "cell_type": "code",
   "execution_count": 1,
   "metadata": {},
   "outputs": [
    {
     "ename": "ModuleNotFoundError",
     "evalue": "No module named 'barista'",
     "output_type": "error",
     "traceback": [
      "\u001b[31m---------------------------------------------------------------------------\u001b[39m",
      "\u001b[31mModuleNotFoundError\u001b[39m                       Traceback (most recent call last)",
      "\u001b[36mCell\u001b[39m\u001b[36m \u001b[39m\u001b[32mIn[1]\u001b[39m\u001b[32m, line 1\u001b[39m\n\u001b[32m----> \u001b[39m\u001b[32m1\u001b[39m \u001b[38;5;28;01mfrom\u001b[39;00m\u001b[38;5;250m \u001b[39m\u001b[34;01mbarista\u001b[39;00m\u001b[34;01m.\u001b[39;00m\u001b[34;01mpersonnel\u001b[39;00m\u001b[34;01m.\u001b[39;00m\u001b[34;01mjavi\u001b[39;00m\u001b[38;5;250m \u001b[39m\u001b[38;5;28;01mimport\u001b[39;00m Javi\n\u001b[32m      2\u001b[39m \u001b[38;5;28;01mimport\u001b[39;00m\u001b[38;5;250m \u001b[39m\u001b[34;01mnumpy\u001b[39;00m\u001b[38;5;250m \u001b[39m\u001b[38;5;28;01mas\u001b[39;00m\u001b[38;5;250m \u001b[39m\u001b[34;01mnp\u001b[39;00m \n\u001b[32m      4\u001b[39m \u001b[38;5;66;03m# I have to use CI derivative coupling vector from molcas. The rest follows:\u001b[39;00m\n",
      "\u001b[31mModuleNotFoundError\u001b[39m: No module named 'barista'"
     ]
    }
   ],
   "source": [
    "from barista.personnel.javi import Javi\n",
    "import numpy as np \n",
    "\n",
    "# I have to use CI derivative coupling vector from molcas. The rest follows:\n",
    "\n",
    "j =  Javi(\n",
    "    'ethylene_a/engrad0.dat',\n",
    "    'ethylene_a/engrad1.dat',\n",
    "    'ethylene_a/nacme2.dat'\n",
    ")\n",
    "ga = np.loadtxt( 'ethylene_a/engrad0.dat').flatten()\n",
    "gb = np.loadtxt( 'ethylene_a/engrad1.dat').flatten()\n",
    "hab = np.loadtxt('ethylene_a/nacme2.dat').flatten()\n",
    "\n",
    "print(f'g_a and j.ga are equal: {np.all(np.isclose(j._ga, ga))}')\n",
    "print(f'g_b and j.gb are equal: {np.all(np.isclose(j._gb, gb))}')\n",
    "print(f'nac and j.nac are equal: {np.all(np.isclose(j.h_ab, hab))}')\n",
    "\n",
    "g_ab = ( gb - ga )/2\n",
    "print(f'g_ab and j.g_ab are equal: {np.all(np.isclose(j.g_ab, g_ab))}')\n",
    "\n",
    "tan_2_beta = 2 * np.dot(g_ab, hab) / (np.dot(g_ab, g_ab) - np.dot(hab, hab))\n",
    "beta_2 = np.atan(tan_2_beta) \n",
    "beta = beta_2 / 2 \n",
    "print(f'beta and j.beta are equal: {np.all(np.isclose(j.beta, beta))}')\n",
    "\n",
    "ref_pitch = 0.0949\n",
    "ref_asymm = 0.5320\n",
    "ref_sigma = 0.9550\n",
    "ref_theta = 0 \n",
    "\n",
    "print(f'Reference Pitch and j.pitch differ in          : {abs((j.pitch - ref_pitch)):9.5f}')\n",
    "print(f'Reference asymmetry and j.asymmetry differ in  : {abs((j.asymmetry - ref_asymm)):9.5f}')\n",
    "print(f'Reference sigma and j.sigma differ in          : {abs((j.sigma - ref_sigma)):9.5f}')\n",
    "print(f'Reference theta_s and j.theta_s differ in      : {abs((j.theta_s % np.pi - ref_theta % np.pi)):9.5f}')\n",
    "print('Conical reference characterization')\n",
    "print('(a) 0.60, 1.07 peaked single-path ')\n",
    "print('Conical calculated characterization')\n",
    "print(f'(a) {j.p[0]:3.2}, {j.b[0]:5.3}, {j.p[1]} {j.b[1]}')"
   ]
  },
  {
   "cell_type": "code",
   "execution_count": null,
   "metadata": {},
   "outputs": [],
   "source": []
  }
 ],
 "metadata": {
  "kernelspec": {
   "display_name": ".venv",
   "language": "python",
   "name": "python3"
  },
  "language_info": {
   "codemirror_mode": {
    "name": "ipython",
    "version": 3
   },
   "file_extension": ".py",
   "mimetype": "text/x-python",
   "name": "python",
   "nbconvert_exporter": "python",
   "pygments_lexer": "ipython3",
   "version": "3.13.2"
  }
 },
 "nbformat": 4,
 "nbformat_minor": 2
}
